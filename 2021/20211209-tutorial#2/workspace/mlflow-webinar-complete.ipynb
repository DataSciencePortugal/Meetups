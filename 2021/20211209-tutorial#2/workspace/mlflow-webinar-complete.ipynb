{
 "cells": [
  {
   "cell_type": "markdown",
   "id": "07173b14",
   "metadata": {},
   "source": [
    "<img width=\"300px\" src=\"https://mlflow.org/docs/latest/_static/MLflow-logo-final-black.png\">"
   ]
  },
  {
   "cell_type": "markdown",
   "id": "7578bdc7",
   "metadata": {},
   "source": [
    "# Why Mlflow?\n",
    "\n",
    "A machine learning product is not only depend on code, as standard software development does. It is a combination of not only code, but also the input data and model parameters. Organizations need to:\n",
    "\n",
    "- Version control the data used to fuel ML models;\n",
    "- Perform model and experiment tracking and versioning;\n",
    "- Systematically optimize models through hyperparameter optimization;\n",
    "- Deploy and monitor models in production environments and keep track of the performance.\n",
    "\n",
    "MLOps is the name given to the processes and tools developed to manage all these components. \n",
    "In recent years, the number of tools has been growing rapidly.  \n",
    "While there are a number of tools currently available for all these different purposes, Mlflow offers a set of features for individuals and teams in an attempt to solve some of these issues."
   ]
  },
  {
   "cell_type": "markdown",
   "id": "40ca6b62",
   "metadata": {
    "ExecuteTime": {
     "end_time": "2021-11-28T18:38:23.621956Z",
     "start_time": "2021-11-28T18:38:23.609000Z"
    }
   },
   "source": [
    "**Mlflow** is an open-source platform, backed by Databricks, for managing the lifecycle of machine learning models, through four different pillars:\n",
    "\n",
    "- By tracking experiments to compare results (**Tracking**);\n",
    "- By allowing data scientists and ML engineers to create reusable machine learning code (**Projects**);\n",
    "- By defining a standard format for packaging models and send them to diverse deployment tools (**Models**);\n",
    "- By providing a centralized repository to collaborative manage the lifecycle of models through versioning, stage transitions and annotations (**Registry**).\n",
    "\n",
    "Besides providing SDK for common languages (Python, R, Java, Julia), and good integration with popular ML frameworks, such as Scikit-learn, Tensorflow, behond others, it is completely **language and library-agnostic**. One can use it with any framework and programming language, since it also provides a REST interface for exchanging metadata with the server.\n",
    "\n",
    "<img src=\"https://www.ambiata.com/images/blog/mlops-tools_files/task-scope.png\" style=\"width: 70%\">\n",
    "\n",
    "Nowadays, there are a lot of MLOps tools.\n",
    "\n",
    "Be aware, even if a tool offers features for given task, they may tackle it with different levels of depth.   \n",
    "For example, even though Kubeflow offers experiment tracking, it requires a level of DevOps expertise that most data scientist don't have. It sits on top of Kubernetes and can be seen as orchestrator for common MLOps tools. **Mlflow, on the other hand, is simple and perfect for global EDA and ML tracking**. \n",
    "\n",
    "Weights and Biases excels in tracking and reporting, considered to be a great tool for teams focused more on research than deliverables. Although it provides deployment capabilities, such as the ability for packaging models into Docker containers, it is not one of its strong suits.\n",
    "\n",
    "Comet.ml is another great example of tool that provides most of the same features as Mlflow, with superior tracking capabilities. It is, however, a proprietary and licensed tool, just like W&B."
   ]
  },
  {
   "cell_type": "markdown",
   "id": "ecf1c365",
   "metadata": {},
   "source": [
    "# Is it perfect?\n",
    "\n",
    "**NO.**\n",
    "\n",
    "Although Mlflow is a great tool, it still lacks behind its competitors in some areas:\n",
    "\n",
    "- It is not easy to compare different experiments.\n",
    "- Even though super useful, autolog features are still experimental and sometimes buggy.\n",
    "- Most plots are not embedded widgets, but stored as artifacts.\n",
    "- Deployment containers are far from optimized, and they are not 100% reliable for a production environment.\n",
    "- ACL for registry management is only available through Databricks managed version.\n",
    "\n",
    "**In general, Mlflow offers a basic set of features if all you want is experiment tracking.   \n",
    "On the other hand, it is an open-source, language and library-agnostic and provides an interesting set of model management features.**"
   ]
  },
  {
   "cell_type": "markdown",
   "id": "eb7ea452",
   "metadata": {},
   "source": [
    "# Mlflow tracking\n",
    "\n",
    "Mlflow offers an API for tracking and recording machine learning experiments metadata, images, and artifacts.   \n",
    "It also provides a nice UI for checking and querying the latter."
   ]
  },
  {
   "cell_type": "code",
   "execution_count": 1,
   "id": "fa5c846a",
   "metadata": {
    "ExecuteTime": {
     "end_time": "2021-12-09T18:44:50.499340Z",
     "start_time": "2021-12-09T18:44:48.044860Z"
    }
   },
   "outputs": [],
   "source": [
    "from sklearn.datasets import load_iris\n",
    "from sklearn.tree import DecisionTreeClassifier\n",
    "from sklearn.tree import export_text\n",
    "from sklearn import tree\n",
    "from sklearn.metrics import ConfusionMatrixDisplay, confusion_matrix, classification_report, f1_score\n",
    "from sklearn.model_selection import train_test_split\n",
    "import matplotlib.pyplot as plt\n",
    "import mlflow\n",
    "import mlflow.sklearn\n",
    "from mlflow.tracking import MlflowClient\n",
    "from mlflow.models.signature import infer_signature\n",
    "import pandas as pd"
   ]
  },
  {
   "cell_type": "markdown",
   "id": "1acef81f",
   "metadata": {},
   "source": [
    "### Scikit-learn DecisionTree"
   ]
  },
  {
   "cell_type": "markdown",
   "id": "af0ee088",
   "metadata": {},
   "source": [
    "First, we need to create or set a Mlflow experiment. An experiment groups `runs`, or model trainings/executions."
   ]
  },
  {
   "cell_type": "code",
   "execution_count": 2,
   "id": "decf82aa",
   "metadata": {
    "ExecuteTime": {
     "end_time": "2021-12-09T18:45:58.480528Z",
     "start_time": "2021-12-09T18:45:58.200810Z"
    }
   },
   "outputs": [
    {
     "name": "stdout",
     "output_type": "stream",
     "text": [
      "INFO: 'iris-dt-sklearn' does not exist. Creating a new experiment\n"
     ]
    }
   ],
   "source": [
    "# Set an Mlflow experiment\n",
    "mlflow.set_experiment('iris-dt-sklearn')"
   ]
  },
  {
   "cell_type": "markdown",
   "id": "c9447b8c",
   "metadata": {},
   "source": [
    "Following that, we need to load our dataset and split it into training and test sets."
   ]
  },
  {
   "cell_type": "code",
   "execution_count": 3,
   "id": "e4cf5ae9",
   "metadata": {
    "ExecuteTime": {
     "end_time": "2021-12-09T18:46:03.721036Z",
     "start_time": "2021-12-09T18:46:03.700851Z"
    },
    "code_folding": []
   },
   "outputs": [],
   "source": [
    "# Load iris dataset\n",
    "iris = load_iris()\n",
    "df_iris = pd.DataFrame(iris.data, columns=iris.feature_names)\n",
    "X_train, X_test, y_train, y_test = train_test_split(\n",
    "        df_iris, iris.target, random_state=0)"
   ]
  },
  {
   "cell_type": "code",
   "execution_count": 4,
   "id": "6ed0c791",
   "metadata": {
    "ExecuteTime": {
     "end_time": "2021-12-09T18:46:04.640241Z",
     "start_time": "2021-12-09T18:46:04.600496Z"
    }
   },
   "outputs": [
    {
     "data": {
      "text/html": [
       "<div>\n",
       "<style scoped>\n",
       "    .dataframe tbody tr th:only-of-type {\n",
       "        vertical-align: middle;\n",
       "    }\n",
       "\n",
       "    .dataframe tbody tr th {\n",
       "        vertical-align: top;\n",
       "    }\n",
       "\n",
       "    .dataframe thead th {\n",
       "        text-align: right;\n",
       "    }\n",
       "</style>\n",
       "<table border=\"1\" class=\"dataframe\">\n",
       "  <thead>\n",
       "    <tr style=\"text-align: right;\">\n",
       "      <th></th>\n",
       "      <th>sepal length (cm)</th>\n",
       "      <th>sepal width (cm)</th>\n",
       "      <th>petal length (cm)</th>\n",
       "      <th>petal width (cm)</th>\n",
       "    </tr>\n",
       "  </thead>\n",
       "  <tbody>\n",
       "    <tr>\n",
       "      <th>0</th>\n",
       "      <td>5.1</td>\n",
       "      <td>3.5</td>\n",
       "      <td>1.4</td>\n",
       "      <td>0.2</td>\n",
       "    </tr>\n",
       "    <tr>\n",
       "      <th>1</th>\n",
       "      <td>4.9</td>\n",
       "      <td>3.0</td>\n",
       "      <td>1.4</td>\n",
       "      <td>0.2</td>\n",
       "    </tr>\n",
       "    <tr>\n",
       "      <th>2</th>\n",
       "      <td>4.7</td>\n",
       "      <td>3.2</td>\n",
       "      <td>1.3</td>\n",
       "      <td>0.2</td>\n",
       "    </tr>\n",
       "    <tr>\n",
       "      <th>3</th>\n",
       "      <td>4.6</td>\n",
       "      <td>3.1</td>\n",
       "      <td>1.5</td>\n",
       "      <td>0.2</td>\n",
       "    </tr>\n",
       "    <tr>\n",
       "      <th>4</th>\n",
       "      <td>5.0</td>\n",
       "      <td>3.6</td>\n",
       "      <td>1.4</td>\n",
       "      <td>0.2</td>\n",
       "    </tr>\n",
       "  </tbody>\n",
       "</table>\n",
       "</div>"
      ],
      "text/plain": [
       "   sepal length (cm)  sepal width (cm)  petal length (cm)  petal width (cm)\n",
       "0                5.1               3.5                1.4               0.2\n",
       "1                4.9               3.0                1.4               0.2\n",
       "2                4.7               3.2                1.3               0.2\n",
       "3                4.6               3.1                1.5               0.2\n",
       "4                5.0               3.6                1.4               0.2"
      ]
     },
     "execution_count": 4,
     "metadata": {},
     "output_type": "execute_result"
    }
   ],
   "source": [
    "df_iris.head(5)"
   ]
  },
  {
   "cell_type": "markdown",
   "id": "537080b3",
   "metadata": {},
   "source": [
    "Let's also do a quick EDA to check for missing values."
   ]
  },
  {
   "cell_type": "code",
   "execution_count": 5,
   "id": "39c65736",
   "metadata": {
    "ExecuteTime": {
     "end_time": "2021-12-09T18:46:06.931358Z",
     "start_time": "2021-12-09T18:46:06.916885Z"
    }
   },
   "outputs": [
    {
     "data": {
      "text/plain": [
       "sepal length (cm)    0\n",
       "sepal width (cm)     0\n",
       "petal length (cm)    0\n",
       "petal width (cm)     0\n",
       "dtype: int64"
      ]
     },
     "execution_count": 5,
     "metadata": {},
     "output_type": "execute_result"
    }
   ],
   "source": [
    "df_iris.isnull().sum()"
   ]
  },
  {
   "cell_type": "code",
   "execution_count": 6,
   "id": "f1c72adc",
   "metadata": {
    "ExecuteTime": {
     "end_time": "2021-12-09T18:46:07.677457Z",
     "start_time": "2021-12-09T18:46:07.619402Z"
    }
   },
   "outputs": [
    {
     "data": {
      "text/html": [
       "<div>\n",
       "<style scoped>\n",
       "    .dataframe tbody tr th:only-of-type {\n",
       "        vertical-align: middle;\n",
       "    }\n",
       "\n",
       "    .dataframe tbody tr th {\n",
       "        vertical-align: top;\n",
       "    }\n",
       "\n",
       "    .dataframe thead th {\n",
       "        text-align: right;\n",
       "    }\n",
       "</style>\n",
       "<table border=\"1\" class=\"dataframe\">\n",
       "  <thead>\n",
       "    <tr style=\"text-align: right;\">\n",
       "      <th></th>\n",
       "      <th>sepal length (cm)</th>\n",
       "      <th>sepal width (cm)</th>\n",
       "      <th>petal length (cm)</th>\n",
       "      <th>petal width (cm)</th>\n",
       "    </tr>\n",
       "  </thead>\n",
       "  <tbody>\n",
       "    <tr>\n",
       "      <th>count</th>\n",
       "      <td>150.000000</td>\n",
       "      <td>150.000000</td>\n",
       "      <td>150.000000</td>\n",
       "      <td>150.000000</td>\n",
       "    </tr>\n",
       "    <tr>\n",
       "      <th>mean</th>\n",
       "      <td>5.843333</td>\n",
       "      <td>3.057333</td>\n",
       "      <td>3.758000</td>\n",
       "      <td>1.199333</td>\n",
       "    </tr>\n",
       "    <tr>\n",
       "      <th>std</th>\n",
       "      <td>0.828066</td>\n",
       "      <td>0.435866</td>\n",
       "      <td>1.765298</td>\n",
       "      <td>0.762238</td>\n",
       "    </tr>\n",
       "    <tr>\n",
       "      <th>min</th>\n",
       "      <td>4.300000</td>\n",
       "      <td>2.000000</td>\n",
       "      <td>1.000000</td>\n",
       "      <td>0.100000</td>\n",
       "    </tr>\n",
       "    <tr>\n",
       "      <th>25%</th>\n",
       "      <td>5.100000</td>\n",
       "      <td>2.800000</td>\n",
       "      <td>1.600000</td>\n",
       "      <td>0.300000</td>\n",
       "    </tr>\n",
       "    <tr>\n",
       "      <th>50%</th>\n",
       "      <td>5.800000</td>\n",
       "      <td>3.000000</td>\n",
       "      <td>4.350000</td>\n",
       "      <td>1.300000</td>\n",
       "    </tr>\n",
       "    <tr>\n",
       "      <th>75%</th>\n",
       "      <td>6.400000</td>\n",
       "      <td>3.300000</td>\n",
       "      <td>5.100000</td>\n",
       "      <td>1.800000</td>\n",
       "    </tr>\n",
       "    <tr>\n",
       "      <th>max</th>\n",
       "      <td>7.900000</td>\n",
       "      <td>4.400000</td>\n",
       "      <td>6.900000</td>\n",
       "      <td>2.500000</td>\n",
       "    </tr>\n",
       "  </tbody>\n",
       "</table>\n",
       "</div>"
      ],
      "text/plain": [
       "       sepal length (cm)  sepal width (cm)  petal length (cm)  \\\n",
       "count         150.000000        150.000000         150.000000   \n",
       "mean            5.843333          3.057333           3.758000   \n",
       "std             0.828066          0.435866           1.765298   \n",
       "min             4.300000          2.000000           1.000000   \n",
       "25%             5.100000          2.800000           1.600000   \n",
       "50%             5.800000          3.000000           4.350000   \n",
       "75%             6.400000          3.300000           5.100000   \n",
       "max             7.900000          4.400000           6.900000   \n",
       "\n",
       "       petal width (cm)  \n",
       "count        150.000000  \n",
       "mean           1.199333  \n",
       "std            0.762238  \n",
       "min            0.100000  \n",
       "25%            0.300000  \n",
       "50%            1.300000  \n",
       "75%            1.800000  \n",
       "max            2.500000  "
      ]
     },
     "execution_count": 6,
     "metadata": {},
     "output_type": "execute_result"
    }
   ],
   "source": [
    "df_iris.describe()"
   ]
  },
  {
   "cell_type": "code",
   "execution_count": 7,
   "id": "08f909c6",
   "metadata": {
    "ExecuteTime": {
     "end_time": "2021-12-09T18:46:08.313605Z",
     "start_time": "2021-12-09T18:46:08.299861Z"
    }
   },
   "outputs": [
    {
     "data": {
      "text/plain": [
       "0    50\n",
       "1    50\n",
       "2    50\n",
       "dtype: int64"
      ]
     },
     "execution_count": 7,
     "metadata": {},
     "output_type": "execute_result"
    }
   ],
   "source": [
    "pd.Series(iris.target).value_counts()"
   ]
  },
  {
   "cell_type": "markdown",
   "id": "17ede0fd",
   "metadata": {},
   "source": [
    "We decided to use a Decision Tree as our classifier. Given that our feature columns are complete and we are using a tree-based classifier, there is no need for normalization/standardization of the features. Let's proceed by feeding our model the training data and getting the test results."
   ]
  },
  {
   "cell_type": "code",
   "execution_count": 8,
   "id": "e75c080f",
   "metadata": {
    "ExecuteTime": {
     "end_time": "2021-12-09T18:51:12.860925Z",
     "start_time": "2021-12-09T18:51:05.349219Z"
    },
    "scrolled": false
   },
   "outputs": [
    {
     "data": {
      "image/png": "[encoded data removed]",
      "text/plain": [
       "<Figure size 432x288 with 2 Axes>"
      ]
     },
     "metadata": {
      "needs_background": "light"
     },
     "output_type": "display_data"
    },
    {
     "data": {
      "image/png": "[encoded data removed]",
      "text/plain": [
       "<Figure size 360x360 with 1 Axes>"
      ]
     },
     "metadata": {
      "needs_background": "light"
     },
     "output_type": "display_data"
    }
   ],
   "source": [
    "# Start run\n",
    "with mlflow.start_run(run_name='first_run'):\n",
    "    # Define and log hyperparameters\n",
    "    hps = {\n",
    "        'random_state': 0,\n",
    "        'max_depth': 2\n",
    "    }\n",
    "    mlflow.log_params(hps)\n",
    "\n",
    "    # Fit model\n",
    "    dt = DecisionTreeClassifier(**hps)\n",
    "    dt = dt.fit(X_train, y_train)\n",
    "\n",
    "    # Get test set predictions\n",
    "    y_pred = dt.predict(X_test)\n",
    "    metrics = classification_report(y_test, y_pred, output_dict=True)\n",
    "    mlflow.log_metrics({\n",
    "        'accuracy': metrics['accuracy'],\n",
    "        'f1-score': metrics['macro avg']['f1-score']\n",
    "    })\n",
    "    \n",
    "    # Set Mlflow tags (default and custom)\n",
    "    mlflow.set_tags({\n",
    "        'mlflow.user': 'pedro.martins@ds.pt',\n",
    "        'mlflow.source.type': 'NOTEBOOK',\n",
    "        'project': 'iris-test-dt'\n",
    "    })\n",
    "\n",
    "    # Plot confusion matrix and log artifact\n",
    "    cm = confusion_matrix(y_test, y_pred, labels=dt.classes_)\n",
    "    disp = ConfusionMatrixDisplay(confusion_matrix=cm, display_labels=dt.classes_)\n",
    "    mlflow.log_figure(disp.plot().figure_, 'cm.png')\n",
    "\n",
    "    # Plot tree configuration and log figure\n",
    "    f, ax = plt.subplots(1, 1, figsize=(5, 5))\n",
    "    tree.plot_tree(dt, ax=ax)\n",
    "    mlflow.log_figure(f, 'tree.png')\n",
    "\n",
    "    # Define input and output signatures\n",
    "    signature = infer_signature(X_train, y_train)\n",
    "\n",
    "    # Log model\n",
    "    mlflow.sklearn.log_model(dt, 'model', signature=signature)"
   ]
  },
  {
   "cell_type": "markdown",
   "id": "32f12571",
   "metadata": {},
   "source": [
    "Access `http://<your-docker-machine-ip>:5000` and we will go through the Mlflow tracking UI."
   ]
  },
  {
   "cell_type": "markdown",
   "id": "4b04645e",
   "metadata": {},
   "source": [
    "### TensorFlow "
   ]
  },
  {
   "cell_type": "code",
   "execution_count": 9,
   "id": "24e397e8",
   "metadata": {
    "ExecuteTime": {
     "end_time": "2021-12-09T18:53:24.337165Z",
     "start_time": "2021-12-09T18:53:21.043905Z"
    }
   },
   "outputs": [],
   "source": [
    "# TensorFlow and tf.keras\n",
    "import tensorflow as tf\n",
    "import mlflow.tensorflow\n",
    "import mlflow.keras"
   ]
  },
  {
   "cell_type": "markdown",
   "id": "ce471a9c",
   "metadata": {},
   "source": [
    "We are going to load Fashion MNIST data from Tensorflow Keras datasets and normalize the training and test data.\n",
    "We are loading images of fashion objects. The provided images are 3-dimensional tensors, whose values range from 0 to 255. Neural networks best behave when input values range from 0.0 to 1.0, therefore we need to normalize it.\n",
    "\n",
    "<img src=\"https://www.tensorflow.org/tutorials/keras/classification_files/output_m4VEw8Ud9Quh_0.png\">"
   ]
  },
  {
   "cell_type": "code",
   "execution_count": 10,
   "id": "89f5d4e5",
   "metadata": {
    "ExecuteTime": {
     "end_time": "2021-12-09T18:53:25.777884Z",
     "start_time": "2021-12-09T18:53:24.911052Z"
    }
   },
   "outputs": [],
   "source": [
    "# Load input data from tf.keras.datasets\n",
    "fashion_mnist = tf.keras.datasets.fashion_mnist\n",
    "(train_images, train_labels), (test_images, test_labels) = fashion_mnist.load_data()\n",
    "class_names = ['T-shirt/top', 'Trouser', 'Pullover', 'Dress', 'Coat',\n",
    "               'Sandal', 'Shirt', 'Sneaker', 'Bag', 'Ankle boot']"
   ]
  },
  {
   "cell_type": "code",
   "execution_count": 11,
   "id": "9d5de50d",
   "metadata": {
    "ExecuteTime": {
     "end_time": "2021-12-09T18:53:26.472914Z",
     "start_time": "2021-12-09T18:53:25.871476Z"
    }
   },
   "outputs": [],
   "source": [
    "# Normalize train and test data.\n",
    "train_images = train_images / 255.0\n",
    "test_images = test_images / 255.0"
   ]
  },
  {
   "cell_type": "code",
   "execution_count": 12,
   "id": "ec896398",
   "metadata": {
    "ExecuteTime": {
     "end_time": "2021-12-09T18:53:45.266433Z",
     "start_time": "2021-12-09T18:53:45.189660Z"
    }
   },
   "outputs": [
    {
     "name": "stdout",
     "output_type": "stream",
     "text": [
      "INFO: 'tf-autolog-experiment' does not exist. Creating a new experiment\n"
     ]
    }
   ],
   "source": [
    "# Set a Mlflow experiment and turn on autologging\n",
    "mlflow.set_experiment('tf-autolog-experiment')"
   ]
  },
  {
   "cell_type": "code",
   "execution_count": 13,
   "id": "eef50975",
   "metadata": {
    "ExecuteTime": {
     "end_time": "2021-12-09T18:55:02.156909Z",
     "start_time": "2021-12-09T18:54:17.136500Z"
    }
   },
   "outputs": [
    {
     "name": "stderr",
     "output_type": "stream",
     "text": [
      "2021/12/09 18:54:17 WARNING mlflow.utils.autologging_utils: You are using an unsupported version of tensorflow. If you encounter errors during autologging, try upgrading / downgrading tensorflow to a supported version, or try upgrading MLflow.\n"
     ]
    },
    {
     "name": "stdout",
     "output_type": "stream",
     "text": [
      "Epoch 1/3\n",
      "   1/1875 [..............................] - ETA: 31:31 - loss: 2.4358 - accuracy: 0.1250WARNING:tensorflow:Callback method `on_train_batch_end` is slow compared to the batch time (batch time: 0.0021s vs `on_train_batch_end` time: 0.0027s). Check your callbacks.\n",
      "1875/1875 [==============================] - 5s 2ms/step - loss: 0.4953 - accuracy: 0.8261\n",
      "Epoch 2/3\n",
      "1875/1875 [==============================] - 4s 2ms/step - loss: 0.3735 - accuracy: 0.8667\n",
      "Epoch 3/3\n",
      "1875/1875 [==============================] - 4s 2ms/step - loss: 0.3356 - accuracy: 0.8782\n",
      "INFO:tensorflow:Assets written to: /tmp/tmpma2rblz8/model/data/model/assets\n",
      "313/313 - 1s - loss: 0.3639 - accuracy: 0.8692 - 943ms/epoch - 3ms/step\n",
      "\n",
      "Test accuracy: 0.8691999912261963\n"
     ]
    }
   ],
   "source": [
    "# Create Keras model\n",
    "mlflow.tensorflow.autolog()\n",
    "\n",
    "with mlflow.start_run():\n",
    "    model = tf.keras.Sequential([\n",
    "        tf.keras.layers.Flatten(input_shape=(28, 28)),\n",
    "        tf.keras.layers.Dense(128, activation='relu'),\n",
    "        tf.keras.layers.Dense(10)\n",
    "    ])\n",
    "    model.compile(\n",
    "        optimizer='adam',\n",
    "        loss=tf.keras.losses.SparseCategoricalCrossentropy(from_logits=True),\n",
    "        metrics=['accuracy'])\n",
    "    model.fit(train_images, train_labels, epochs=3)\n",
    "\n",
    "    # Notice these metrics are not logged\n",
    "    test_loss, test_acc = model.evaluate(test_images,  test_labels, verbose=2)\n",
    "\n",
    "    print('\\nTest accuracy:', test_acc)"
   ]
  },
  {
   "cell_type": "markdown",
   "id": "1a38c626",
   "metadata": {},
   "source": [
    "Let's go to the UI again and check how our loss and accuracy behaves during the training epochs.\n",
    "\n",
    "Besides being an experimental feature, subject to bugs, not every metric is automatically tracked by Mlflow.   \n",
    "For more information on which metrics are tracked, check the [docs](https://mlflow.org/docs/latest/tracking.html#tensorflow-and-keras-experimental)."
   ]
  },
  {
   "cell_type": "markdown",
   "id": "5bda0576",
   "metadata": {},
   "source": [
    "## Hyperparameter tuning using XGBoost and HyperOpt"
   ]
  },
  {
   "cell_type": "code",
   "execution_count": 14,
   "id": "1ef6200e",
   "metadata": {
    "ExecuteTime": {
     "end_time": "2021-12-09T18:57:42.783346Z",
     "start_time": "2021-12-09T18:57:42.222709Z"
    }
   },
   "outputs": [],
   "source": [
    "import hyperopt\n",
    "from hyperopt import fmin, tpe, hp, STATUS_OK, Trials\n",
    "import xgboost as xgb\n",
    "import numpy as np\n",
    "import mlflow.xgboost"
   ]
  },
  {
   "cell_type": "code",
   "execution_count": 15,
   "id": "26a24263",
   "metadata": {
    "ExecuteTime": {
     "end_time": "2021-12-09T18:57:42.842344Z",
     "start_time": "2021-12-09T18:57:42.821440Z"
    }
   },
   "outputs": [],
   "source": [
    "# Load Iris dataset from scikit-learn and configure XGBoost data matrices\n",
    "iris = load_iris()\n",
    "df_iris = pd.DataFrame(iris.data, columns=iris.feature_names)\n",
    "X_train, X_test, y_train, y_test = train_test_split(\n",
    "        df_iris, iris.target, random_state=0)"
   ]
  },
  {
   "cell_type": "code",
   "execution_count": 16,
   "id": "d934d93f",
   "metadata": {
    "ExecuteTime": {
     "end_time": "2021-12-09T18:57:53.607751Z",
     "start_time": "2021-12-09T18:57:53.598131Z"
    }
   },
   "outputs": [],
   "source": [
    "# Set hyperparameter space\n",
    "space={\n",
    "    'max_depth': hp.quniform(\"max_depth\", 2, 6, 1),\n",
    "    'gamma': hp.uniform ('gamma', 1, 9),\n",
    "    'reg_alpha' : hp.quniform('reg_alpha', 0, 5, 1),\n",
    "    'reg_lambda' : hp.uniform('reg_lambda', 0, 1),\n",
    "    'colsample_bytree' : hp.uniform('colsample_bytree', 0.2, 1)\n",
    "}"
   ]
  },
  {
   "cell_type": "code",
   "execution_count": 17,
   "id": "41fa7495",
   "metadata": {
    "ExecuteTime": {
     "end_time": "2021-12-09T18:58:24.376467Z",
     "start_time": "2021-12-09T18:58:24.301606Z"
    },
    "scrolled": true
   },
   "outputs": [
    {
     "name": "stderr",
     "output_type": "stream",
     "text": [
      "2021/12/09 18:58:24 WARNING mlflow.utils.autologging_utils: You are using an unsupported version of xgboost. If you encounter errors during autologging, try upgrading / downgrading xgboost to a supported version, or try upgrading MLflow.\n"
     ]
    },
    {
     "name": "stdout",
     "output_type": "stream",
     "text": [
      "INFO: 'xgboost-autohp-test' does not exist. Creating a new experiment\n"
     ]
    }
   ],
   "source": [
    "# Set Mlflow experiment\n",
    "mlflow.set_experiment('xgboost-autohp-test')\n",
    "mlflow.xgboost.autolog()"
   ]
  },
  {
   "cell_type": "code",
   "execution_count": 18,
   "id": "5309e14c",
   "metadata": {
    "ExecuteTime": {
     "end_time": "2021-12-09T18:58:55.406712Z",
     "start_time": "2021-12-09T18:58:55.372757Z"
    }
   },
   "outputs": [],
   "source": [
    "# Configure training data matrices (always after setting up autolog to infer signature)\n",
    "dtrain = xgb.DMatrix(X_train, label=y_train)\n",
    "dtest = xgb.DMatrix(X_test, label=y_test)"
   ]
  },
  {
   "cell_type": "code",
   "execution_count": null,
   "id": "ca8ca3d0",
   "metadata": {
    "ExecuteTime": {
     "end_time": "2021-12-03T19:01:02.853573Z",
     "start_time": "2021-12-03T19:01:02.836451Z"
    },
    "code_folding": []
   },
   "outputs": [],
   "source": [
    "# Create training function\n",
    "def hyperparameter_tuning(space):\n",
    "    with mlflow.start_run(nested=True, run_name='child_run'):\n",
    "        # specify parameters via map\n",
    "        param = {\n",
    "            'max_depth': int(space['max_depth']),\n",
    "            'gamma': space['gamma'],\n",
    "            'reg_alpha': space['reg_alpha'],\n",
    "            'reg_lambda': space['reg_lambda'],\n",
    "            'colsample_bytree': space['colsample_bytree'],\n",
    "            'min_child_weight': 3,\n",
    "            'eta': 0.3,  # the training step for each iteration\n",
    "            'verbosity': 1,  # logging mode - quiet\n",
    "            'objective': 'multi:softprob',  # error evaluation for multiclass training\n",
    "            'eval_metric': 'mlogloss',\n",
    "            'num_class': pd.Series(iris.target).nunique()\n",
    "        }\n",
    "        num_round = 2\n",
    "        bst = xgb.train(param, dtrain, num_round)\n",
    "\n",
    "        # make prediction\n",
    "        preds = bst.predict(dtest)\n",
    "        best_preds = np.asarray([np.argmax(line) for line in preds])\n",
    "        f1 = f1_score(best_preds, y_test, average='macro')\n",
    "        mlflow.log_param('f1_score', f1)\n",
    "\n",
    "        #change the metric if you like\n",
    "        return {'loss': -f1, 'status': STATUS_OK, 'model': bst}"
   ]
  },
  {
   "cell_type": "code",
   "execution_count": null,
   "id": "cf8fa316",
   "metadata": {
    "ExecuteTime": {
     "end_time": "2021-12-03T19:02:16.374081Z",
     "start_time": "2021-12-03T19:01:04.455955Z"
    },
    "code_folding": [],
    "scrolled": true
   },
   "outputs": [],
   "source": [
    "# Run hyperparameter optimization with HyperOpt\n",
    "with mlflow.start_run(run_name='parent_run'):\n",
    "    trials = Trials()\n",
    "    best = fmin(\n",
    "        fn=hyperparameter_tuning,\n",
    "        space=space,\n",
    "        algo=tpe.suggest,\n",
    "        max_evals=100,\n",
    "        trials=trials\n",
    "    )"
   ]
  },
  {
   "cell_type": "markdown",
   "id": "271e26f4",
   "metadata": {},
   "source": [
    "Let's now access the UI and plot the hyperparameters and metrics.   \n",
    "Check which hyperparameter ranges had the most impact on the model F1 score.\n"
   ]
  },
  {
   "cell_type": "markdown",
   "id": "2827b697",
   "metadata": {},
   "source": [
    "Finally, we want to retrive the best model, but we also need to know the ID of our experiment."
   ]
  },
  {
   "cell_type": "code",
   "execution_count": 19,
   "id": "e3f8efca",
   "metadata": {
    "ExecuteTime": {
     "end_time": "2021-12-09T19:02:58.494444Z",
     "start_time": "2021-12-09T19:02:58.459446Z"
    }
   },
   "outputs": [
    {
     "data": {
      "text/plain": [
       "[<Experiment: artifact_location='s3://mlflow/0', experiment_id='0', lifecycle_stage='active', name='Default', tags={}>,\n",
       " <Experiment: artifact_location='s3://mlflow/8', experiment_id='8', lifecycle_stage='active', name='xgboost-hyperopt-auto', tags={}>,\n",
       " <Experiment: artifact_location='s3://mlflow/10', experiment_id='10', lifecycle_stage='active', name='iris-dt-sklearn', tags={}>,\n",
       " <Experiment: artifact_location='s3://mlflow/11', experiment_id='11', lifecycle_stage='active', name='tf-autolog-experiment', tags={}>,\n",
       " <Experiment: artifact_location='s3://mlflow/12', experiment_id='12', lifecycle_stage='active', name='xgboost-autohp-test', tags={}>]"
      ]
     },
     "execution_count": 19,
     "metadata": {},
     "output_type": "execute_result"
    }
   ],
   "source": [
    "# List experiments\n",
    "mlflow.list_experiments()"
   ]
  },
  {
   "cell_type": "code",
   "execution_count": 20,
   "id": "d51ee682",
   "metadata": {
    "ExecuteTime": {
     "end_time": "2021-12-09T19:03:51.354350Z",
     "start_time": "2021-12-09T19:03:50.487554Z"
    }
   },
   "outputs": [
    {
     "data": {
      "text/html": [
       "<div>\n",
       "<style scoped>\n",
       "    .dataframe tbody tr th:only-of-type {\n",
       "        vertical-align: middle;\n",
       "    }\n",
       "\n",
       "    .dataframe tbody tr th {\n",
       "        vertical-align: top;\n",
       "    }\n",
       "\n",
       "    .dataframe thead th {\n",
       "        text-align: right;\n",
       "    }\n",
       "</style>\n",
       "<table border=\"1\" class=\"dataframe\">\n",
       "  <thead>\n",
       "    <tr style=\"text-align: right;\">\n",
       "      <th></th>\n",
       "      <th>run_id</th>\n",
       "      <th>experiment_id</th>\n",
       "      <th>status</th>\n",
       "      <th>artifact_uri</th>\n",
       "      <th>start_time</th>\n",
       "      <th>end_time</th>\n",
       "      <th>metrics.f1_score</th>\n",
       "      <th>params.num_class</th>\n",
       "      <th>params.gamma</th>\n",
       "      <th>params.reg_lambda</th>\n",
       "      <th>...</th>\n",
       "      <th>params.eta</th>\n",
       "      <th>params.verbose_eval</th>\n",
       "      <th>params.maximize</th>\n",
       "      <th>params.reg_alpha</th>\n",
       "      <th>tags.mlflow.log-model.history</th>\n",
       "      <th>tags.mlflow.user</th>\n",
       "      <th>tags.mlflow.source.name</th>\n",
       "      <th>tags.mlflow.parentRunId</th>\n",
       "      <th>tags.mlflow.source.type</th>\n",
       "      <th>tags.mlflow.runName</th>\n",
       "    </tr>\n",
       "  </thead>\n",
       "  <tbody>\n",
       "    <tr>\n",
       "      <th>0</th>\n",
       "      <td>e4d1eb8a9c4449649c733448da50dbbe</td>\n",
       "      <td>8</td>\n",
       "      <td>FINISHED</td>\n",
       "      <td>s3://mlflow/8/e4d1eb8a9c4449649c733448da50dbbe...</td>\n",
       "      <td>2021-12-09 17:55:29.765000+00:00</td>\n",
       "      <td>2021-12-09 17:55:33.485000+00:00</td>\n",
       "      <td>0.971703</td>\n",
       "      <td>3</td>\n",
       "      <td>6.062161675181252</td>\n",
       "      <td>0.21127755276478144</td>\n",
       "      <td>...</td>\n",
       "      <td>0.3</td>\n",
       "      <td>True</td>\n",
       "      <td>None</td>\n",
       "      <td>2.0</td>\n",
       "      <td>[{\"run_id\": \"e4d1eb8a9c4449649c733448da50dbbe\"...</td>\n",
       "      <td>root</td>\n",
       "      <td>/opt/conda/lib/python3.8/site-packages/ipykern...</td>\n",
       "      <td>700bdacd49d6445a8e07b932e1e71ec5</td>\n",
       "      <td>LOCAL</td>\n",
       "      <td>child_run</td>\n",
       "    </tr>\n",
       "  </tbody>\n",
       "</table>\n",
       "<p>1 rows × 28 columns</p>\n",
       "</div>"
      ],
      "text/plain": [
       "                             run_id experiment_id    status  \\\n",
       "0  e4d1eb8a9c4449649c733448da50dbbe             8  FINISHED   \n",
       "\n",
       "                                        artifact_uri  \\\n",
       "0  s3://mlflow/8/e4d1eb8a9c4449649c733448da50dbbe...   \n",
       "\n",
       "                        start_time                         end_time  \\\n",
       "0 2021-12-09 17:55:29.765000+00:00 2021-12-09 17:55:33.485000+00:00   \n",
       "\n",
       "   metrics.f1_score params.num_class       params.gamma    params.reg_lambda  \\\n",
       "0          0.971703                3  6.062161675181252  0.21127755276478144   \n",
       "\n",
       "   ... params.eta params.verbose_eval params.maximize params.reg_alpha  \\\n",
       "0  ...        0.3                True            None              2.0   \n",
       "\n",
       "                       tags.mlflow.log-model.history tags.mlflow.user  \\\n",
       "0  [{\"run_id\": \"e4d1eb8a9c4449649c733448da50dbbe\"...             root   \n",
       "\n",
       "                             tags.mlflow.source.name  \\\n",
       "0  /opt/conda/lib/python3.8/site-packages/ipykern...   \n",
       "\n",
       "            tags.mlflow.parentRunId tags.mlflow.source.type  \\\n",
       "0  700bdacd49d6445a8e07b932e1e71ec5                   LOCAL   \n",
       "\n",
       "  tags.mlflow.runName  \n",
       "0           child_run  \n",
       "\n",
       "[1 rows x 28 columns]"
      ]
     },
     "execution_count": 20,
     "metadata": {},
     "output_type": "execute_result"
    }
   ],
   "source": [
    "# Search through experiment runs\n",
    "df = mlflow.search_runs([8], order_by=['metrics.f1_score DESC'])\n",
    "df.head(1)"
   ]
  },
  {
   "cell_type": "markdown",
   "id": "ff122ed0",
   "metadata": {},
   "source": [
    "Having access to the `run_id` of the best performing model in our experiment, we can again get the model artifact, as well as other artifacts stored in our repo."
   ]
  },
  {
   "cell_type": "code",
   "execution_count": 21,
   "id": "a7da8405",
   "metadata": {
    "ExecuteTime": {
     "end_time": "2021-12-09T19:04:41.511515Z",
     "start_time": "2021-12-09T19:04:41.186068Z"
    }
   },
   "outputs": [],
   "source": [
    "# Get best model artifact\n",
    "bst = mlflow.xgboost.load_model(f'runs:/{df.iloc[0].run_id}/model')"
   ]
  },
  {
   "cell_type": "code",
   "execution_count": 22,
   "id": "35403478",
   "metadata": {
    "ExecuteTime": {
     "end_time": "2021-12-09T19:04:46.088811Z",
     "start_time": "2021-12-09T19:04:46.080200Z"
    }
   },
   "outputs": [
    {
     "data": {
      "text/plain": [
       "<xgboost.core.Booster at 0x7f5534d117c0>"
      ]
     },
     "execution_count": 22,
     "metadata": {},
     "output_type": "execute_result"
    }
   ],
   "source": [
    "bst"
   ]
  },
  {
   "cell_type": "code",
   "execution_count": 23,
   "id": "642e25e0",
   "metadata": {
    "ExecuteTime": {
     "end_time": "2021-12-09T19:04:51.011300Z",
     "start_time": "2021-12-09T19:04:50.985509Z"
    }
   },
   "outputs": [
    {
     "data": {
      "text/plain": [
       "0.9717034521788342"
      ]
     },
     "execution_count": 23,
     "metadata": {},
     "output_type": "execute_result"
    }
   ],
   "source": [
    "# Compute again the F1-Score against the test set\n",
    "best_preds = np.asarray([np.argmax(line) for line in bst.predict(dtest)])\n",
    "f1_score(best_preds, y_test, average='macro')"
   ]
  },
  {
   "cell_type": "code",
   "execution_count": 24,
   "id": "e855fe51",
   "metadata": {
    "ExecuteTime": {
     "end_time": "2021-12-09T19:06:16.015984Z",
     "start_time": "2021-12-09T19:06:15.856182Z"
    }
   },
   "outputs": [],
   "source": [
    "# Download feature importance image artifact\n",
    "client = MlflowClient()\n",
    "local_path = client.download_artifacts(df.iloc[0].run_id, 'feature_importance_weight.png', '.')"
   ]
  },
  {
   "cell_type": "code",
   "execution_count": 25,
   "id": "2407abb3",
   "metadata": {
    "ExecuteTime": {
     "end_time": "2021-12-09T19:06:38.892760Z",
     "start_time": "2021-12-09T19:06:38.881945Z"
    }
   },
   "outputs": [
    {
     "data": {
      "image/png": "[encoded data removed]",
      "text/plain": [
       "<IPython.core.display.Image object>"
      ]
     },
     "execution_count": 25,
     "metadata": {},
     "output_type": "execute_result"
    }
   ],
   "source": [
    "# Display image artifact\n",
    "from IPython.display import Image\n",
    "Image(filename='feature_importance_weight.png')"
   ]
  },
  {
   "cell_type": "markdown",
   "id": "e4ad6dd8",
   "metadata": {},
   "source": [
    "## Mlflow Projects\n",
    "\n",
    "Our next goal is to create a reproducible code base for our model. Mlflow provides a format for packaging data science code so that we are able to easily reuse it.\n",
    "\n",
    "We only need four things:\n",
    "\n",
    "- A folder with the name of the project;\n",
    "- A `conda.yml` file or a docker image for the running environment;\n",
    "- A `.sh` or `.py` entrypoint file;\n",
    "- A `MLproject` file that contains the project definition.\n",
    "\n",
    "Having all these, we can simply run in our terminal:\n",
    "\n",
    "```\n",
    "mlflow run <PROJECT_NAME> --experiment-name <EXPERIMENT_NAME> [-P parameter1=value1 ...]\n",
    "```"
   ]
  },
  {
   "cell_type": "markdown",
   "id": "ed46ec4b",
   "metadata": {},
   "source": [
    "## Mlflow Models\n",
    "\n",
    "An MLflow Model is a standard format for packaging machine learning models that can be used in a variety of downstream tools—for example, real-time serving through a REST API or batch inference on Apache Spark. The format defines a convention that lets you save a model in different \"flavors\" that can be understood by different downstream tools.\n",
    "\n",
    "Let's check our XGBoost model artifacts."
   ]
  },
  {
   "cell_type": "code",
   "execution_count": 26,
   "id": "285e6e8f",
   "metadata": {
    "ExecuteTime": {
     "end_time": "2021-12-09T19:14:16.167429Z",
     "start_time": "2021-12-09T19:14:15.876971Z"
    }
   },
   "outputs": [],
   "source": [
    "# Load Python function version of XGBoost model\n",
    "pyfunc_bst = mlflow.pyfunc.load_model(f'runs:/{df.iloc[0].run_id}/model')"
   ]
  },
  {
   "cell_type": "code",
   "execution_count": 27,
   "id": "5f7bb543",
   "metadata": {
    "ExecuteTime": {
     "end_time": "2021-12-09T19:14:21.473790Z",
     "start_time": "2021-12-09T19:14:21.463978Z"
    }
   },
   "outputs": [
    {
     "data": {
      "text/plain": [
       "mlflow.pyfunc.loaded_model:\n",
       "  artifact_path: model\n",
       "  flavor: mlflow.xgboost\n",
       "  run_id: e4d1eb8a9c4449649c733448da50dbbe"
      ]
     },
     "execution_count": 27,
     "metadata": {},
     "output_type": "execute_result"
    }
   ],
   "source": [
    "# Print model\n",
    "pyfunc_bst"
   ]
  },
  {
   "cell_type": "code",
   "execution_count": 28,
   "id": "fe1a68d6",
   "metadata": {
    "ExecuteTime": {
     "end_time": "2021-12-09T19:15:15.581430Z",
     "start_time": "2021-12-09T19:15:15.536077Z"
    }
   },
   "outputs": [
    {
     "data": {
      "text/plain": [
       "array([[0.4125902 , 0.42128867, 0.16612116]], dtype=float32)"
      ]
     },
     "execution_count": 28,
     "metadata": {},
     "output_type": "execute_result"
    }
   ],
   "source": [
    "# Predict with sample input\n",
    "pyfunc_bst.predict([{\n",
    "    'sepal length (cm)': 1.0,\n",
    "    'sepal width (cm)': 2.0,\n",
    "    'petal length (cm)': 3.0,\n",
    "    'petal width (cm)': 1.0,\n",
    "}])"
   ]
  },
  {
   "cell_type": "markdown",
   "id": "95e82b7d",
   "metadata": {},
   "source": [
    "Mlflow Models provide a standard format so that one can load a model in different flavors. For example:\n",
    "- A pickled scikit-learn object that can be loaded into a Scikit-learn pipeline.\n",
    "- A generic Python function that can be loaded into any compatible Python environment, or any of the available deployment tools.\n",
    "\n",
    "If any of the available flavors that Mlflow provides does not fit your needs, one can define a custom model:"
   ]
  },
  {
   "cell_type": "code",
   "execution_count": 29,
   "id": "b05a55a2",
   "metadata": {
    "ExecuteTime": {
     "end_time": "2021-12-09T19:18:03.985782Z",
     "start_time": "2021-12-09T19:18:01.353173Z"
    }
   },
   "outputs": [],
   "source": [
    "import mlflow.pyfunc\n",
    "\n",
    "# Define the model class\n",
    "class AddN(mlflow.pyfunc.PythonModel):\n",
    "    \n",
    "    def __init__(self, n):\n",
    "        self.n = n\n",
    "        \n",
    "    def predict(self, context, model_input):\n",
    "        return model_input.apply(lambda x: x + self.n)\n",
    "\n",
    "# Construct and save the model\n",
    "model_path = 'add-n-model'\n",
    "add10_model = AddN(n=10)\n",
    "mlflow.pyfunc.save_model(path=model_path, python_model=add10_model)"
   ]
  },
  {
   "cell_type": "code",
   "execution_count": 30,
   "id": "ac2189e2",
   "metadata": {
    "ExecuteTime": {
     "end_time": "2021-12-09T19:18:23.242574Z",
     "start_time": "2021-12-09T19:18:23.186667Z"
    }
   },
   "outputs": [],
   "source": [
    "# Load the model in `python_function` format\n",
    "loaded_model = mlflow.pyfunc.load_model(model_path)\n",
    "\n",
    "# Evaluate the model\n",
    "model_input = pd.DataFrame([range(10)])\n",
    "model_output = loaded_model.predict(model_input)\n",
    "assert model_output.equals(pd.DataFrame([range(10, 20)]))"
   ]
  },
  {
   "cell_type": "code",
   "execution_count": 33,
   "id": "84ced760",
   "metadata": {
    "ExecuteTime": {
     "end_time": "2021-12-09T19:18:40.598145Z",
     "start_time": "2021-12-09T19:18:40.573686Z"
    }
   },
   "outputs": [
    {
     "data": {
      "text/html": [
       "<div>\n",
       "<style scoped>\n",
       "    .dataframe tbody tr th:only-of-type {\n",
       "        vertical-align: middle;\n",
       "    }\n",
       "\n",
       "    .dataframe tbody tr th {\n",
       "        vertical-align: top;\n",
       "    }\n",
       "\n",
       "    .dataframe thead th {\n",
       "        text-align: right;\n",
       "    }\n",
       "</style>\n",
       "<table border=\"1\" class=\"dataframe\">\n",
       "  <thead>\n",
       "    <tr style=\"text-align: right;\">\n",
       "      <th></th>\n",
       "      <th>0</th>\n",
       "      <th>1</th>\n",
       "      <th>2</th>\n",
       "      <th>3</th>\n",
       "      <th>4</th>\n",
       "      <th>5</th>\n",
       "      <th>6</th>\n",
       "      <th>7</th>\n",
       "      <th>8</th>\n",
       "      <th>9</th>\n",
       "    </tr>\n",
       "  </thead>\n",
       "  <tbody>\n",
       "    <tr>\n",
       "      <th>0</th>\n",
       "      <td>0</td>\n",
       "      <td>1</td>\n",
       "      <td>2</td>\n",
       "      <td>3</td>\n",
       "      <td>4</td>\n",
       "      <td>5</td>\n",
       "      <td>6</td>\n",
       "      <td>7</td>\n",
       "      <td>8</td>\n",
       "      <td>9</td>\n",
       "    </tr>\n",
       "  </tbody>\n",
       "</table>\n",
       "</div>"
      ],
      "text/plain": [
       "   0  1  2  3  4  5  6  7  8  9\n",
       "0  0  1  2  3  4  5  6  7  8  9"
      ]
     },
     "execution_count": 33,
     "metadata": {},
     "output_type": "execute_result"
    }
   ],
   "source": [
    "model_input"
   ]
  },
  {
   "cell_type": "code",
   "execution_count": 32,
   "id": "25f71baf",
   "metadata": {
    "ExecuteTime": {
     "end_time": "2021-12-09T19:18:34.738542Z",
     "start_time": "2021-12-09T19:18:34.713155Z"
    }
   },
   "outputs": [
    {
     "data": {
      "text/html": [
       "<div>\n",
       "<style scoped>\n",
       "    .dataframe tbody tr th:only-of-type {\n",
       "        vertical-align: middle;\n",
       "    }\n",
       "\n",
       "    .dataframe tbody tr th {\n",
       "        vertical-align: top;\n",
       "    }\n",
       "\n",
       "    .dataframe thead th {\n",
       "        text-align: right;\n",
       "    }\n",
       "</style>\n",
       "<table border=\"1\" class=\"dataframe\">\n",
       "  <thead>\n",
       "    <tr style=\"text-align: right;\">\n",
       "      <th></th>\n",
       "      <th>0</th>\n",
       "      <th>1</th>\n",
       "      <th>2</th>\n",
       "      <th>3</th>\n",
       "      <th>4</th>\n",
       "      <th>5</th>\n",
       "      <th>6</th>\n",
       "      <th>7</th>\n",
       "      <th>8</th>\n",
       "      <th>9</th>\n",
       "    </tr>\n",
       "  </thead>\n",
       "  <tbody>\n",
       "    <tr>\n",
       "      <th>0</th>\n",
       "      <td>10</td>\n",
       "      <td>11</td>\n",
       "      <td>12</td>\n",
       "      <td>13</td>\n",
       "      <td>14</td>\n",
       "      <td>15</td>\n",
       "      <td>16</td>\n",
       "      <td>17</td>\n",
       "      <td>18</td>\n",
       "      <td>19</td>\n",
       "    </tr>\n",
       "  </tbody>\n",
       "</table>\n",
       "</div>"
      ],
      "text/plain": [
       "    0   1   2   3   4   5   6   7   8   9\n",
       "0  10  11  12  13  14  15  16  17  18  19"
      ]
     },
     "execution_count": 32,
     "metadata": {},
     "output_type": "execute_result"
    }
   ],
   "source": [
    "model_output"
   ]
  },
  {
   "cell_type": "markdown",
   "id": "06ac1d82",
   "metadata": {},
   "source": [
    "## Built-in deployment tools\n",
    "\n",
    "Mlflow provides a series of built-in deployment tools, so that one can serve a model locally, or remotely in Azure ML, AWS SageMaker, or as a Apache Spark UDF.\n",
    "\n",
    "The tool builds a Docker images with REST API endpoints using Mlflow Python functions, that accepts data in multiple formats as POST input to the `/invocations` endpoint path:\n",
    "\n",
    "| Description                                                    | Content-Type\n",
    "|:---------------------------------------------------------------|:-------------------------------------------------------------------------|\n",
    "| JSON-serialized pandas DataFrames in the split orientation <br />  `pandas_df.to_json(orient='split')`     | `application/json` or `application/json; format=pandas-split` |\n",
    "| JSON-serialized pandas DataFrames in the records orientation <br />   | `application/json; format=pandas-records`                                |\n",
    "| CSV-serialized pandas DataFrames <br /> `pandas_df.to_csv()`                           | `text/csv`                                                                |\n",
    "| Tensor input formatted as described in TF Serving’s API docs. | `application/json`|\n",
    "\n",
    "To serve a model locally, one can simply run:\n",
    "\n",
    "```\n",
    "mlflow models serve -m \"models:/<MODEL_NAME>/<MODEL_VERSION_OR_STAGE>\" -p 1234\n",
    "```\n",
    "\n",
    "Where `<MODEL_VERSION_OR_STAGE>` may correspond to the model version or the stage (Staging, Production)."
   ]
  },
  {
   "cell_type": "code",
   "execution_count": 34,
   "id": "12411b29",
   "metadata": {
    "ExecuteTime": {
     "end_time": "2021-12-09T19:27:37.118079Z",
     "start_time": "2021-12-09T19:27:37.050588Z"
    },
    "code_folding": []
   },
   "outputs": [],
   "source": [
    "import requests\n",
    "r = requests.post(\n",
    "    'http://127.0.0.1:1234/invocations',\n",
    "    headers={'Content-Type': 'application/json'},\n",
    "    data=X_test.to_json(orient='split'),\n",
    ")"
   ]
  },
  {
   "cell_type": "code",
   "execution_count": 35,
   "id": "c27b25bd",
   "metadata": {
    "ExecuteTime": {
     "end_time": "2021-12-09T19:28:08.827307Z",
     "start_time": "2021-12-09T19:28:08.811296Z"
    }
   },
   "outputs": [
    {
     "data": {
      "text/plain": [
       "[[0.20574191212654114, 0.20313237607479095, 0.5911257266998291],\n",
       " [0.21198156476020813, 0.5763348340988159, 0.21168358623981476],\n",
       " [0.33853626251220703, 0.32340335845947266, 0.3380604088306427],\n",
       " [0.20574191212654114, 0.20313237607479095, 0.5911257266998291],\n",
       " [0.5760100483894348, 0.20729750394821167, 0.2166924923658371],\n",
       " [0.20574191212654114, 0.20313237607479095, 0.5911257266998291],\n",
       " [0.5760100483894348, 0.20729750394821167, 0.2166924923658371],\n",
       " [0.21198156476020813, 0.5763348340988159, 0.21168358623981476],\n",
       " [0.21198156476020813, 0.5763348340988159, 0.21168358623981476],\n",
       " [0.21198156476020813, 0.5763348340988159, 0.21168358623981476],\n",
       " [0.24214182794094086, 0.3717319667339325, 0.38612625002861023],\n",
       " [0.21198156476020813, 0.5763348340988159, 0.21168358623981476],\n",
       " [0.21198156476020813, 0.5763348340988159, 0.21168358623981476],\n",
       " [0.21198156476020813, 0.5763348340988159, 0.21168358623981476],\n",
       " [0.21198156476020813, 0.5763348340988159, 0.21168358623981476],\n",
       " [0.5760100483894348, 0.20729750394821167, 0.2166924923658371],\n",
       " [0.21198156476020813, 0.5763348340988159, 0.21168358623981476],\n",
       " [0.21198156476020813, 0.5763348340988159, 0.21168358623981476],\n",
       " [0.5760100483894348, 0.20729750394821167, 0.2166924923658371],\n",
       " [0.5760100483894348, 0.20729750394821167, 0.2166924923658371],\n",
       " [0.21988846361637115, 0.3844815790653229, 0.39562997221946716],\n",
       " [0.21198156476020813, 0.5763348340988159, 0.21168358623981476],\n",
       " [0.5760100483894348, 0.20729750394821167, 0.2166924923658371],\n",
       " [0.5760100483894348, 0.20729750394821167, 0.2166924923658371],\n",
       " [0.21988846361637115, 0.3844815790653229, 0.39562997221946716],\n",
       " [0.5760100483894348, 0.20729750394821167, 0.2166924923658371],\n",
       " [0.5760100483894348, 0.20729750394821167, 0.2166924923658371],\n",
       " [0.21198156476020813, 0.5763348340988159, 0.21168358623981476],\n",
       " [0.4165911376476288, 0.4266890585422516, 0.15671977400779724],\n",
       " [0.5760100483894348, 0.20729750394821167, 0.2166924923658371],\n",
       " [0.20574191212654114, 0.20313237607479095, 0.5911257266998291],\n",
       " [0.4165911376476288, 0.4266890585422516, 0.15671977400779724],\n",
       " [0.5760100483894348, 0.20729750394821167, 0.2166924923658371],\n",
       " [0.21988846361637115, 0.3844815790653229, 0.39562997221946716],\n",
       " [0.20574191212654114, 0.20313237607479095, 0.5911257266998291],\n",
       " [0.4165911376476288, 0.4266890585422516, 0.15671977400779724],\n",
       " [0.33853626251220703, 0.32340335845947266, 0.3380604088306427],\n",
       " [0.24214182794094086, 0.3717319667339325, 0.38612625002861023]]"
      ]
     },
     "execution_count": 35,
     "metadata": {},
     "output_type": "execute_result"
    }
   ],
   "source": [
    "r.json()"
   ]
  },
  {
   "cell_type": "code",
   "execution_count": 37,
   "id": "6c87a2e9",
   "metadata": {
    "ExecuteTime": {
     "end_time": "2021-12-09T19:29:12.323285Z",
     "start_time": "2021-12-09T19:29:12.103561Z"
    }
   },
   "outputs": [
    {
     "data": {
      "text/plain": [
       "[<ModelVersion: creation_timestamp=1639077690149, current_stage='Production', description='This is the version version. Please check the results and review them.', last_updated_timestamp=1639077869893, name='test-xgboost-model', run_id='1df638ea357b4e80ac3ab898f3936ede', run_link='', source='s3://mlflow/13/1df638ea357b4e80ac3ab898f3936ede/artifacts/model', status='READY', status_message='', tags={}, user_id='', version='1'>]"
      ]
     },
     "execution_count": 37,
     "metadata": {},
     "output_type": "execute_result"
    }
   ],
   "source": [
    "# Get latest versions on Production\n",
    "client.get_latest_versions('test-xgboost-model', stages=[\"Production\"])"
   ]
  },
  {
   "cell_type": "markdown",
   "id": "ea2506f6",
   "metadata": {
    "ExecuteTime": {
     "end_time": "2021-11-28T18:15:34.203119Z",
     "start_time": "2021-11-28T18:15:34.193560Z"
    }
   },
   "source": [
    "# Resources and references\n",
    "\n",
    "- [Mlflow](https://mlflow.org)\n",
    "- [ML workspace](https://github.com/ml-tooling/ml-workspace)\n",
    "- [mlflow-docker](https://github.com/Toumash/mlflow-docker)\n",
    "- [Ambiata - MLOps tools](https://www.ambiata.com/blog/2020-12-07-mlops-tools/)\n",
    "- [The Cheesy analogy of Mlflow and Kubeflow](https://servian.dev/the-cheesy-analogy-of-mlflow-and-kubeflow-715a45580fbe)\n",
    "- [Machine learning tools comparison](https://www.netguru.com/blog/machine-learning-tools-comparison)\n",
    "- [Decision Trees - scikit-learn](https://scikit-learn.org/stable/modules/tree.html#classification)\n",
    "- [Basic classification: Classify images of clothing](https://www.tensorflow.org/tutorials/keras/classification)\n",
    "- [HyperParameter Tuning — Hyperopt Bayesian Optimization](https://medium.com/analytics-vidhya/hyperparameter-tuning-hyperopt-bayesian-optimization-for-xgboost-and-neural-network-8aedf278a1c9)"
   ]
  },
  {
   "cell_type": "code",
   "execution_count": null,
   "id": "22b5dc2a",
   "metadata": {},
   "outputs": [],
   "source": []
  }
 ],
 "metadata": {
  "kernelspec": {
   "display_name": "Python 3",
   "language": "python",
   "name": "python3"
  },
  "language_info": {
   "codemirror_mode": {
    "name": "ipython",
    "version": 3
   },
   "file_extension": ".py",
   "mimetype": "text/x-python",
   "name": "python",
   "nbconvert_exporter": "python",
   "pygments_lexer": "ipython3",
   "version": "3.8.10"
  },
  "toc": {
   "base_numbering": 1,
   "nav_menu": {},
   "number_sections": false,
   "sideBar": true,
   "skip_h1_title": false,
   "title_cell": "Table of Contents",
   "title_sidebar": "Contents",
   "toc_cell": false,
   "toc_position": {},
   "toc_section_display": true,
   "toc_window_display": false
  }
 },
 "nbformat": 4,
 "nbformat_minor": 5
}
