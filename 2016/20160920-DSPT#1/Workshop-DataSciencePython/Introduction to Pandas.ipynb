{
 "cells": [
  {
   "cell_type": "markdown",
   "metadata": {},
   "source": [
    "# Introduction to Pandas\n",
    "\n",
    "Rui Mendes (ruidamendes@ua.pt)\n",
    "\n",
    "*Data Science Portugal (meetup)*\n",
    "\n",
    "\n",
    "20 Sept. 2016\n",
    "\n",
    "--------------------\n"
   ]
  },
  {
   "cell_type": "markdown",
   "metadata": {},
   "source": [
    "Pandas is an open source, BSD-licensed library providing high-performance, easy-to-use data structures and data analysis tools for the Python programming language.\n",
    "Library documentation: http://pandas.pydata.org/"
   ]
  },
  {
   "cell_type": "markdown",
   "metadata": {},
   "source": [
    "### What you will learn in this tutorial¶\n",
    "\n",
    " * Series and Dataframes\n",
    " * Manipulating Dataframes (selecting, slicing, ...)\n",
    " * Load data from CSV file\n",
    " * Functions (describe, groupby, pivot_tables, ...)\n",
    " * Plotting\n",
    " * Export data to CSV file"
   ]
  },
  {
   "cell_type": "code",
   "execution_count": null,
   "metadata": {
    "ExecuteTime": {
     "end_time": "2016-09-19T13:37:17.011743",
     "start_time": "2016-09-19T13:37:16.793103"
    },
    "collapsed": false
   },
   "outputs": [],
   "source": [
    "import pandas as pd\n",
    "pd.__version__"
   ]
  },
  {
   "cell_type": "markdown",
   "metadata": {},
   "source": [
    "# Series and DataFrame: First steps\n",
    "\n",
    "## Series\n",
    "\n",
    "\n",
    "A Series is a single vector of data (like a NumPy array) with an index that labels each element in the vector."
   ]
  },
  {
   "cell_type": "code",
   "execution_count": null,
   "metadata": {
    "ExecuteTime": {
     "end_time": "2016-09-19T13:18:49.799428",
     "start_time": "2016-09-19T13:18:49.780417"
    },
    "collapsed": false
   },
   "outputs": [],
   "source": [
    "# create a series\n",
    "data1 = [1.0, 2, 2, 3, 4]\n",
    "indexes1 = ['a','b','c','d','e']\n",
    "\n",
    "ex1 = pd.Series(data1)\n",
    "ex1.head()"
   ]
  },
  {
   "cell_type": "code",
   "execution_count": null,
   "metadata": {
    "ExecuteTime": {
     "end_time": "2016-09-19T13:19:04.036378",
     "start_time": "2016-09-19T13:19:04.026261"
    },
    "collapsed": false
   },
   "outputs": [],
   "source": [
    "#create with indexes\n",
    "ex1 = pd.Series(data1, index=indexes1)\n",
    "ex1.head()"
   ]
  },
  {
   "cell_type": "code",
   "execution_count": 1,
   "metadata": {
    "collapsed": true
   },
   "outputs": [],
   "source": [
    "# tail, count, mean, sum, unique, value_counts\n"
   ]
  },
  {
   "cell_type": "code",
   "execution_count": null,
   "metadata": {
    "ExecuteTime": {
     "end_time": "2016-09-19T13:19:23.451479",
     "start_time": "2016-09-19T13:19:23.446841"
    },
    "collapsed": false
   },
   "outputs": [],
   "source": [
    "ex1.count()"
   ]
  },
  {
   "cell_type": "code",
   "execution_count": null,
   "metadata": {
    "collapsed": true
   },
   "outputs": [],
   "source": [
    "# Slicing\n",
    "ex1[1:2]"
   ]
  },
  {
   "cell_type": "markdown",
   "metadata": {},
   "source": [
    "## DataFrame\n",
    "A DataFrame is a tabular data structure containing an ordered collection of columns. Each column can have a different type. DataFrames have both row and column indices and is analogous to a dict of Series. \n",
    "Row and column operations are treated roughly symmetrically. Columns returned when indexing a DataFrame are views of the underlying data, not a copy. To obtain a copy, use the Series' copy method.\n",
    "Data are stored internally as a 2-dimensional object, but the DataFrame allows us to represent and manipulate higher-dimensional data."
   ]
  },
  {
   "cell_type": "code",
   "execution_count": null,
   "metadata": {
    "ExecuteTime": {
     "end_time": "2016-09-19T13:19:53.072933",
     "start_time": "2016-09-19T13:19:53.056244"
    },
    "collapsed": false
   },
   "outputs": [],
   "source": [
    "#Create a DataFrame\n",
    "years = [2012, 2013, 2014, 2012, 2013]\n",
    "data_1 = {'letter' : ['A', 'B', 'C', 'A', 'D'],\n",
    "          'year' : years,\n",
    "          'value' : [5.0, 8.1, 5.2, 5.0, 4.1]}\n",
    "df_1 = pd.DataFrame(data_1)\n",
    "df_1"
   ]
  },
  {
   "cell_type": "code",
   "execution_count": null,
   "metadata": {
    "collapsed": true
   },
   "outputs": [],
   "source": [
    "# head, describe, ...\n",
    "df_1.head()"
   ]
  },
  {
   "cell_type": "markdown",
   "metadata": {},
   "source": [
    "# Manipulating Dataframes"
   ]
  },
  {
   "cell_type": "markdown",
   "metadata": {},
   "source": [
    "## Selecting\n",
    "    - single column and multiple\n",
    "    - iloc, loc and ix\n",
    "    - filter (conditional)"
   ]
  },
  {
   "cell_type": "code",
   "execution_count": null,
   "metadata": {
    "collapsed": true
   },
   "outputs": [],
   "source": [
    "# get_value()\n",
    "df_1.get_value(0,'letter')"
   ]
  },
  {
   "cell_type": "code",
   "execution_count": null,
   "metadata": {
    "collapsed": false
   },
   "outputs": [],
   "source": [
    "# select a column\n",
    "df_1['letter']"
   ]
  },
  {
   "cell_type": "code",
   "execution_count": null,
   "metadata": {
    "collapsed": false
   },
   "outputs": [],
   "source": [
    "# column names also attached to the object\n",
    "df_1.letter"
   ]
  },
  {
   "cell_type": "code",
   "execution_count": null,
   "metadata": {
    "collapsed": false
   },
   "outputs": [],
   "source": [
    "# slicing \n",
    "df_1[0:2]"
   ]
  },
  {
   "cell_type": "code",
   "execution_count": null,
   "metadata": {
    "ExecuteTime": {
     "end_time": "2016-09-19T13:22:14.273790",
     "start_time": "2016-09-19T13:22:14.254479"
    },
    "collapsed": false
   },
   "outputs": [],
   "source": [
    "# select via position\n",
    "df_1.iloc[2]"
   ]
  },
  {
   "cell_type": "code",
   "execution_count": null,
   "metadata": {
    "collapsed": false
   },
   "outputs": [],
   "source": [
    "df_1.index = ['a', 'b', 'c', 'd', 'e']\n",
    "df_1"
   ]
  },
  {
   "cell_type": "code",
   "execution_count": null,
   "metadata": {
    "collapsed": false
   },
   "outputs": [],
   "source": [
    "df_1.iloc['b']\n",
    "df_1.ix[0]\n",
    "df_1.ix['a']"
   ]
  },
  {
   "cell_type": "code",
   "execution_count": null,
   "metadata": {
    "collapsed": false
   },
   "outputs": [],
   "source": [
    "# Filter\n",
    "df_1[df_1['year'] >= 2013]"
   ]
  },
  {
   "cell_type": "markdown",
   "metadata": {},
   "source": [
    "## Adding and Removing Elements \n",
    " \n",
    "  "
   ]
  },
  {
   "cell_type": "code",
   "execution_count": null,
   "metadata": {
    "collapsed": false
   },
   "outputs": [],
   "source": [
    "df_1.drop('year', axis='columns', inplace=True)  # dropping/removing a column\n",
    "df_1"
   ]
  },
  {
   "cell_type": "code",
   "execution_count": null,
   "metadata": {
    "collapsed": false
   },
   "outputs": [],
   "source": [
    "df_1['year'] = years\n",
    "df_1"
   ]
  },
  {
   "cell_type": "markdown",
   "metadata": {},
   "source": [
    "## Sorting\n",
    "Pandas objects include methods for re-ordering data."
   ]
  },
  {
   "cell_type": "code",
   "execution_count": null,
   "metadata": {
    "ExecuteTime": {
     "end_time": "2016-09-19T13:23:54.995228",
     "start_time": "2016-09-19T13:23:54.975197"
    },
    "collapsed": false
   },
   "outputs": [],
   "source": [
    "df_1.sort_index(ascending=False).head()"
   ]
  },
  {
   "cell_type": "code",
   "execution_count": null,
   "metadata": {
    "ExecuteTime": {
     "end_time": "2016-09-19T13:23:58.774325",
     "start_time": "2016-09-19T13:23:58.763758"
    },
    "collapsed": false
   },
   "outputs": [],
   "source": [
    "df_1.sort_values('year')"
   ]
  },
  {
   "cell_type": "markdown",
   "metadata": {},
   "source": [
    "# Load data\n",
    "\n",
    "CSV, JSON, Clipboard, ..."
   ]
  },
  {
   "cell_type": "markdown",
   "metadata": {},
   "source": [
    " ## CSV\n",
    " \n",
    " You can read data from a CSV file using the read_csv function. By default, it assumes that the fields are comma-separated."
   ]
  },
  {
   "cell_type": "code",
   "execution_count": null,
   "metadata": {
    "ExecuteTime": {
     "end_time": "2016-09-19T13:24:22.227579",
     "start_time": "2016-09-19T13:24:22.214452"
    },
    "collapsed": false
   },
   "outputs": [],
   "source": [
    "tips = pd.read_csv('tips.csv')\n",
    "print(tips.head())"
   ]
  },
  {
   "cell_type": "markdown",
   "metadata": {},
   "source": [
    "# Functions"
   ]
  },
  {
   "cell_type": "markdown",
   "metadata": {},
   "source": [
    "## Dataframe description"
   ]
  },
  {
   "cell_type": "code",
   "execution_count": null,
   "metadata": {
    "ExecuteTime": {
     "end_time": "2016-09-19T13:24:34.100702",
     "start_time": "2016-09-19T13:24:34.073386"
    },
    "collapsed": false
   },
   "outputs": [],
   "source": [
    "#describe, info, value_counts (column)\n",
    "tips.describe()"
   ]
  },
  {
   "cell_type": "markdown",
   "metadata": {},
   "source": [
    "## Duplicates and nulls"
   ]
  },
  {
   "cell_type": "markdown",
   "metadata": {},
   "source": [
    "### Duplicates\n",
    "\n",
    "We can easily identify and remove duplicate values from DataFrame objects. "
   ]
  },
  {
   "cell_type": "code",
   "execution_count": null,
   "metadata": {
    "ExecuteTime": {
     "end_time": "2016-09-19T13:26:43.539233",
     "start_time": "2016-09-19T13:26:43.496063"
    },
    "collapsed": false
   },
   "outputs": [],
   "source": [
    "#unique, fillna, ..\n",
    "tips[tips.duplicated()]\n",
    "\n",
    "#tips[tips.duplicated(keep=False)]\n",
    "#tips[tips.duplicated(subset='day')]"
   ]
  },
  {
   "cell_type": "code",
   "execution_count": null,
   "metadata": {
    "ExecuteTime": {
     "end_time": "2016-09-19T13:27:26.990844",
     "start_time": "2016-09-19T13:27:26.984656"
    },
    "collapsed": false
   },
   "outputs": [],
   "source": [
    "print(tips.shape)\n",
    "tips.drop_duplicates(inplace=True)\n",
    "print(tips.shape)"
   ]
  },
  {
   "cell_type": "markdown",
   "metadata": {},
   "source": [
    "### Nulls"
   ]
  },
  {
   "cell_type": "code",
   "execution_count": null,
   "metadata": {
    "ExecuteTime": {
     "end_time": "2016-09-19T13:28:32.434280",
     "start_time": "2016-09-19T13:28:32.391897"
    },
    "collapsed": false
   },
   "outputs": [],
   "source": [
    "# update with a Nan value\n",
    "tips.set_value(0, 'tip', None)\n",
    "\n",
    "print(tips.head())\n",
    "\n",
    "len(tips[tips['tip'].isnull()])"
   ]
  },
  {
   "cell_type": "code",
   "execution_count": null,
   "metadata": {
    "ExecuteTime": {
     "end_time": "2016-09-19T13:28:53.406575",
     "start_time": "2016-09-19T13:28:53.379383"
    },
    "collapsed": false
   },
   "outputs": [],
   "source": [
    "#tips2 = tips.dropna()\n",
    "#tips2.shape\n",
    "\n",
    "tips.fillna(11).head()\n"
   ]
  },
  {
   "cell_type": "markdown",
   "metadata": {},
   "source": [
    "# Advanced Functions"
   ]
  },
  {
   "cell_type": "markdown",
   "metadata": {},
   "source": [
    "## Apply and Map"
   ]
  },
  {
   "cell_type": "code",
   "execution_count": null,
   "metadata": {
    "collapsed": false
   },
   "outputs": [],
   "source": [
    "import numpy as np\n",
    "tips = pd.read_csv('tips.csv')\n",
    "tips.head()"
   ]
  },
  {
   "cell_type": "markdown",
   "metadata": {},
   "source": [
    "### Map"
   ]
  },
  {
   "cell_type": "code",
   "execution_count": null,
   "metadata": {
    "ExecuteTime": {
     "end_time": "2016-09-19T13:30:13.422917",
     "start_time": "2016-09-19T13:30:13.397255"
    },
    "collapsed": false
   },
   "outputs": [],
   "source": [
    "gender = {'Male': 0, 'Female': 1}\n",
    "tips['isFemale'] = tips['sex'].map(gender)\n",
    "tips.head()"
   ]
  },
  {
   "cell_type": "markdown",
   "metadata": {},
   "source": [
    "### Apply"
   ]
  },
  {
   "cell_type": "code",
   "execution_count": null,
   "metadata": {
    "collapsed": false
   },
   "outputs": [],
   "source": [
    "def isSmoker(x):\n",
    "    if x == 'Yes':\n",
    "        return 1\n",
    "    else:\n",
    "        return 0\n",
    "    \n",
    "tips['smoker'] = tips['smoker'].apply(isSmoker)\n",
    "tips.head()"
   ]
  },
  {
   "cell_type": "markdown",
   "metadata": {},
   "source": [
    "## Aggregate and Group"
   ]
  },
  {
   "cell_type": "code",
   "execution_count": null,
   "metadata": {
    "ExecuteTime": {
     "end_time": "2016-09-19T13:31:07.379410",
     "start_time": "2016-09-19T13:31:07.365809"
    },
    "collapsed": false
   },
   "outputs": [],
   "source": [
    "tips.groupby('sex')['tip'].mean()\n",
    "\n",
    "#tips.groupby(['sex', 'day'])['tip'].mean()"
   ]
  },
  {
   "cell_type": "code",
   "execution_count": null,
   "metadata": {
    "ExecuteTime": {
     "end_time": "2016-09-19T13:31:39.931341",
     "start_time": "2016-09-19T13:31:39.913504"
    },
    "collapsed": false
   },
   "outputs": [],
   "source": [
    "tips.groupby('sex').aggregate({'tip': 'mean',\n",
    "                             'total_bill': 'max'})"
   ]
  },
  {
   "cell_type": "markdown",
   "metadata": {},
   "source": [
    "## Crosstab\n",
    "\n",
    "This function can be used to get an initial \"feel\" of the data. We can validate some basic hypothesis."
   ]
  },
  {
   "cell_type": "code",
   "execution_count": 2,
   "metadata": {
    "ExecuteTime": {
     "end_time": "2016-09-19T13:32:04.857704",
     "start_time": "2016-09-19T13:32:04.826832"
    },
    "collapsed": false
   },
   "outputs": [
    {
     "ename": "NameError",
     "evalue": "name 'pd' is not defined",
     "output_type": "error",
     "traceback": [
      "\u001b[1;31m---------------------------------------------------------------------------\u001b[0m",
      "\u001b[1;31mNameError\u001b[0m                                 Traceback (most recent call last)",
      "\u001b[1;32m<ipython-input-2-d49ad6f89a37>\u001b[0m in \u001b[0;36m<module>\u001b[1;34m()\u001b[0m\n\u001b[1;32m----> 1\u001b[1;33m \u001b[0mparty_counts\u001b[0m \u001b[1;33m=\u001b[0m \u001b[0mpd\u001b[0m\u001b[1;33m.\u001b[0m\u001b[0mcrosstab\u001b[0m\u001b[1;33m(\u001b[0m\u001b[0mtips\u001b[0m\u001b[1;33m.\u001b[0m\u001b[0mday\u001b[0m\u001b[1;33m,\u001b[0m \u001b[0mtips\u001b[0m\u001b[1;33m.\u001b[0m\u001b[0msex\u001b[0m\u001b[1;33m)\u001b[0m\u001b[1;33m\u001b[0m\u001b[0m\n\u001b[0m\u001b[0;32m      2\u001b[0m \u001b[0mparty_counts\u001b[0m\u001b[1;33m\u001b[0m\u001b[0m\n",
      "\u001b[1;31mNameError\u001b[0m: name 'pd' is not defined"
     ]
    }
   ],
   "source": [
    "# Frequency table of day and sex\n",
    "party_counts = pd.crosstab(tips['day'], tips['sex'], margins=True)\n",
    "party_counts"
   ]
  },
  {
   "cell_type": "markdown",
   "metadata": {},
   "source": [
    "## Pivot Tables\n",
    "\n",
    "The pivot_table method allows a DataFrame to be transformed easily between long and wide formats in the same way as a pivot table is created in a spreadsheet. It takes three arguments: index, columns and values, corresponding to the DataFrame index (the row headers), columns and cell values, respectively.\n",
    "For example, we may want the twstrs variable (the response variable) in wide format according to patient, as we saw with the unstacking method above:"
   ]
  },
  {
   "cell_type": "code",
   "execution_count": null,
   "metadata": {
    "ExecuteTime": {
     "end_time": "2016-09-19T13:34:00.997167",
     "start_time": "2016-09-19T13:34:00.940308"
    },
    "collapsed": false
   },
   "outputs": [],
   "source": [
    "print(tips.pivot_table('tip', index='sex', columns='day'))\n",
    "\n",
    "#print(tips.pivot_table('tip', index=['sex', 'smoker'], columns='day'))\n",
    "\n",
    "#print(tips.pivot_table('tip', index=['sex', 'smoker'], columns=['day', 'time']))\n",
    "\n",
    "#print(tips.pivot_table('tip', index=['sex', 'smoker'], columns=['day', 'time'], aggfunc='max'))"
   ]
  },
  {
   "cell_type": "markdown",
   "metadata": {},
   "source": [
    "# Plotting"
   ]
  },
  {
   "cell_type": "code",
   "execution_count": null,
   "metadata": {
    "ExecuteTime": {
     "end_time": "2016-09-19T13:37:27.634222",
     "start_time": "2016-09-19T13:37:27.622892"
    },
    "collapsed": false
   },
   "outputs": [],
   "source": [
    "%matplotlib inline\n",
    "import matplotlib.pyplot as plt\n",
    "\n",
    "tips = pd.read_csv('tips.csv')"
   ]
  },
  {
   "cell_type": "code",
   "execution_count": null,
   "metadata": {
    "ExecuteTime": {
     "end_time": "2016-09-19T13:37:31.997832",
     "start_time": "2016-09-19T13:37:31.747948"
    },
    "collapsed": false
   },
   "outputs": [],
   "source": [
    "chart1 = tips['sex'].value_counts()\n",
    "chart1.plot(kind='bar')\n",
    "\n",
    "plt.ylabel('Count')\n",
    "plt.xlabel('Gender')\n",
    "plt.title('Count by Gender')\n",
    "\n",
    "plt.show()"
   ]
  },
  {
   "cell_type": "code",
   "execution_count": null,
   "metadata": {
    "ExecuteTime": {
     "end_time": "2016-09-19T13:41:25.645956",
     "start_time": "2016-09-19T13:41:25.389013"
    },
    "collapsed": false
   },
   "outputs": [],
   "source": [
    "chart2 = tips['tip'].hist()\n",
    "#print(tips['tip'].mean())"
   ]
  },
  {
   "cell_type": "code",
   "execution_count": null,
   "metadata": {
    "ExecuteTime": {
     "end_time": "2016-09-19T13:41:41.427796",
     "start_time": "2016-09-19T13:41:41.157556"
    },
    "collapsed": false
   },
   "outputs": [],
   "source": [
    "chart3 = tips.groupby('day')['tip'].sum()\n",
    "print(chart3.head())\n",
    "\n",
    "chart3.plot(kind='bar')"
   ]
  },
  {
   "cell_type": "code",
   "execution_count": null,
   "metadata": {
    "ExecuteTime": {
     "end_time": "2016-09-19T13:42:06.783299",
     "start_time": "2016-09-19T13:42:06.440585"
    },
    "collapsed": false
   },
   "outputs": [],
   "source": [
    "chart4 = tips.pivot_table('tip', index='sex', columns='day')\n",
    "chart4.plot(kind='bar')"
   ]
  },
  {
   "cell_type": "markdown",
   "metadata": {},
   "source": [
    "# Export to File\n",
    "\n",
    "CSV example"
   ]
  },
  {
   "cell_type": "code",
   "execution_count": null,
   "metadata": {
    "collapsed": true
   },
   "outputs": [],
   "source": [
    "exportData = tips.pivot_table('tip', index='sex', columns='day')\n",
    "exportData.to_csv('export.csv')"
   ]
  },
  {
   "cell_type": "code",
   "execution_count": null,
   "metadata": {
    "collapsed": false
   },
   "outputs": [],
   "source": [
    "example = pd.read_csv('export.csv')\n",
    "example.head()"
   ]
  },
  {
   "cell_type": "markdown",
   "metadata": {},
   "source": [
    "## To Explore"
   ]
  },
  {
   "cell_type": "markdown",
   "metadata": {},
   "source": [
    "* Reindexing\n",
    "* Rename Columns and Indexes\n",
    "* MultiIndex\n",
    "* Concatenate, Merge and Join\n",
    "* Stack and unstack\n",
    "* Time Series\n",
    "* Discretization (get_dummies)\n",
    "* Sampling\n",
    "* ..."
   ]
  },
  {
   "cell_type": "markdown",
   "metadata": {},
   "source": [
    "### Useful External Modules\n",
    "\n",
    "* Numpy\n",
    "* SciPy\n",
    "* Seaborn \n",
    "* Pickle\n",
    "* Scrapy\n",
    "* nltk\n",
    "* Beautiful Soup\n",
    "* Scikit-Learn"
   ]
  },
  {
   "cell_type": "markdown",
   "metadata": {
    "collapsed": true
   },
   "source": [
    "# Links"
   ]
  },
  {
   "cell_type": "markdown",
   "metadata": {},
   "source": [
    "* http://pandas.pydata.org/pandas-docs/stable/\n",
    "* http://chrisalbon.com/\n",
    "* https://nbviewer.jupyter.org/github/pybokeh/ipython_notebooks/blob/master/pandas/PandasCheatSheet.ipynb#chaining\n",
    "* https://github.com/ipython/ipython/wiki/A-gallery-of-interesting-IPython-Notebooks#introductory-tutorials\n"
   ]
  }
 ],
 "metadata": {
  "anaconda-cloud": {},
  "kernelspec": {
   "display_name": "Python 3",
   "language": "python",
   "name": "python3"
  },
  "language_info": {
   "codemirror_mode": {
    "name": "ipython",
    "version": 3
   },
   "file_extension": ".py",
   "mimetype": "text/x-python",
   "name": "python",
   "nbconvert_exporter": "python",
   "pygments_lexer": "ipython3",
   "version": "3.4.5"
  },
  "nav_menu": {},
  "toc": {
   "navigate_menu": true,
   "number_sections": true,
   "sideBar": true,
   "threshold": 6,
   "toc_cell": false,
   "toc_section_display": "block",
   "toc_window_display": false
  }
 },
 "nbformat": 4,
 "nbformat_minor": 0
}
